{
  "nbformat": 4,
  "nbformat_minor": 0,
  "metadata": {
    "hide_input": false,
    "kernelspec": {
      "display_name": "Python 3",
      "language": "python",
      "name": "python3"
    },
    "language_info": {
      "codemirror_mode": {
        "name": "ipython",
        "version": 3
      },
      "file_extension": ".py",
      "mimetype": "text/x-python",
      "name": "python",
      "nbconvert_exporter": "python",
      "pygments_lexer": "ipython3",
      "version": "3.6.8"
    },
    "colab": {
      "name": "LSTM.ipynb",
      "provenance": [],
      "collapsed_sections": [],
      "include_colab_link": true
    }
  },
  "cells": [
    {
      "cell_type": "markdown",
      "metadata": {
        "id": "view-in-github",
        "colab_type": "text"
      },
      "source": [
        "<a href=\"https://colab.research.google.com/github/Anugrg/Fall-Detection/blob/master/LSTM.ipynb\" target=\"_parent\"><img src=\"https://colab.research.google.com/assets/colab-badge.svg\" alt=\"Open In Colab\"/></a>"
      ]
    },
    {
      "cell_type": "markdown",
      "metadata": {
        "id": "q3IdC5jmN9Be",
        "colab_type": "text"
      },
      "source": [
        "# <a title=\"Activity Recognition\" href=\"https://github.com/guillaume-chevalier/LSTM-Human-Activity-Recognition\" > LSTMs for Human Activity Recognition</a>\n",
        "\n",
        "Human Activity Recognition (HAR) using smartphones dataset and an LSTM RNN. Classifying the type of movement amongst six categories:\n",
        "- WALKING,\n",
        "- WALKING_UPSTAIRS,\n",
        "- WALKING_DOWNSTAIRS,\n",
        "- SITTING,\n",
        "- STANDING,\n",
        "- LAYING.\n",
        "\n",
        "Compared to a classical approach, using a Recurrent Neural Networks (RNN) with Long Short-Term Memory cells (LSTMs) require no or almost no feature engineering. Data can be fed directly into the neural network who acts like a black box, modeling the problem correctly. [Other research](https://archive.ics.uci.edu/ml/machine-learning-databases/00240/UCI%20HAR%20Dataset.names) on the activity recognition dataset can use a big amount of feature engineering, which is rather a signal processing approach combined with classical data science techniques. The approach here is rather very simple in terms of how much was the data preprocessed. \n",
        "\n",
        "Let's use Google's neat Deep Learning library, TensorFlow, demonstrating the usage of an LSTM, a type of Artificial Neural Network that can process sequential data / time series. \n",
        "\n",
        "## Video dataset overview\n",
        "\n",
        "Follow this link to see a video of the 6 activities recorded in the experiment with one of the participants:\n",
        "\n",
        "<p align=\"center\">\n",
        "  <a href=\"http://www.youtube.com/watch?feature=player_embedded&v=XOEN9W05_4A\n",
        "\" target=\"_blank\"><img src=\"http://img.youtube.com/vi/XOEN9W05_4A/0.jpg\" \n",
        "alt=\"Video of the experiment\" width=\"400\" height=\"300\" border=\"10\" /></a>\n",
        "  <a href=\"https://youtu.be/XOEN9W05_4A\"><center>[Watch video]</center></a>\n",
        "</p>\n",
        "\n",
        "## Details about the input data\n",
        "\n",
        "I will be using an LSTM on the data to learn (as a cellphone attached on the waist) to recognise the type of activity that the user is doing. The dataset's description goes like this:\n",
        "\n",
        "> The sensor signals (accelerometer and gyroscope) were pre-processed by applying noise filters and then sampled in fixed-width sliding windows of 2.56 sec and 50% overlap (128 readings/window). The sensor acceleration signal, which has gravitational and body motion components, was separated using a Butterworth low-pass filter into body acceleration and gravity. The gravitational force is assumed to have only low frequency components, therefore a filter with 0.3 Hz cutoff frequency was used. \n",
        "\n",
        "That said, I will use the almost raw data: only the gravity effect has been filtered out of the accelerometer  as a preprocessing step for another 3D feature as an input to help learning. If you'd ever want to extract the gravity by yourself, you could fork my code on using a [Butterworth Low-Pass Filter (LPF) in Python](https://github.com/guillaume-chevalier/filtering-stft-and-laplace-transform) and edit it to have the right cutoff frequency of 0.3 Hz which is a good frequency for activity recognition from body sensors.\n",
        "\n",
        "## What is an RNN?\n",
        "\n",
        "As explained in [this article](http://karpathy.github.io/2015/05/21/rnn-effectiveness/), an RNN takes many input vectors to process them and output other vectors. It can be roughly pictured like in the image below, imagining each rectangle has a vectorial depth and other special hidden quirks in the image below. **In our case, the \"many to one\" architecture is used**: we accept time series of [feature vectors](https://www.quora.com/What-do-samples-features-time-steps-mean-in-LSTM/answer/Guillaume-Chevalier-2) (one vector per [time step](https://www.quora.com/What-do-samples-features-time-steps-mean-in-LSTM/answer/Guillaume-Chevalier-2)) to convert them to a probability vector at the output for classification. Note that a \"one to one\" architecture would be a standard feedforward neural network. \n",
        "\n",
        "> <a href=\"http://karpathy.github.io/2015/05/21/rnn-effectiveness/\" ><img src=\"http://karpathy.github.io/assets/rnn/diags.jpeg\" /></a>\n",
        "> http://karpathy.github.io/2015/05/21/rnn-effectiveness/\n",
        "\n",
        "## What is an LSTM?\n",
        "\n",
        "An LSTM is an improved RNN. It is more complex, but easier to train, avoiding what is called the vanishing gradient problem. I recommend [this article](http://colah.github.io/posts/2015-08-Understanding-LSTMs/) for you to learn more on LSTMs.\n",
        "\n",
        "\n",
        "## Results \n",
        "\n",
        "Scroll on! Nice visuals awaits. "
      ]
    },
    {
      "cell_type": "code",
      "metadata": {
        "id": "piM7U6nlIjIn",
        "colab_type": "code",
        "outputId": "4f7b9eec-b437-4e22-891c-63bb12fc85f2",
        "colab": {
          "base_uri": "https://localhost:8080/",
          "height": 35
        }
      },
      "source": [
        "%tensorflow_version 1.x"
      ],
      "execution_count": 1,
      "outputs": [
        {
          "output_type": "stream",
          "text": [
            "TensorFlow 1.x selected.\n"
          ],
          "name": "stdout"
        }
      ]
    },
    {
      "cell_type": "code",
      "metadata": {
        "id": "BD_iU85xN9Bl",
        "colab_type": "code",
        "outputId": "fb1eed38-feae-4c18-e2a0-99de6ce24fcc",
        "colab": {
          "base_uri": "https://localhost:8080/",
          "height": 54
        }
      },
      "source": [
        "# All Includes\n",
        "\n",
        "import numpy as np\n",
        "import matplotlib\n",
        "import matplotlib.pyplot as plt\n",
        "import tensorflow as tf  # Version 1.0.0 (some previous versions are used in past commits)\n",
        "from sklearn import metrics\n",
        "from tensorflow import keras\n",
        "import os\n",
        "import sys\n",
        "from random import randrange\n",
        "print(tf.__version__)\n",
        "print(keras.__version__)"
      ],
      "execution_count": 2,
      "outputs": [
        {
          "output_type": "stream",
          "text": [
            "1.15.2\n",
            "2.2.4-tf\n"
          ],
          "name": "stdout"
        }
      ]
    },
    {
      "cell_type": "code",
      "metadata": {
        "id": "Ftk0zv8JN9B3",
        "colab_type": "code",
        "colab": {}
      },
      "source": [
        "# Useful Constants\n",
        "\n",
        "# Those are separate normalised input features for the neural network\n",
        "INPUT_SIGNAL_TYPES = [\n",
        "    \"body_acc_x_\",\n",
        "    \"body_acc_y_\",\n",
        "    \"body_acc_z_\",\n",
        "    \"body_gyro_x_\",\n",
        "    \"body_gyro_y_\",\n",
        "    \"body_gyro_z_\",\n",
        "    \"total_acc_x_\",\n",
        "    \"total_acc_y_\",\n",
        "    \"total_acc_z_\"\n",
        "]\n",
        "\n",
        "# Output classes to learn how to classify\n",
        "LABELS = [\n",
        "    \"WALKING\", \n",
        "    \"WALKING_UPSTAIRS\", \n",
        "    \"WALKING_DOWNSTAIRS\", \n",
        "    \"SITTING\", \n",
        "    \"STANDING\", \n",
        "    \"LAYING\"\n",
        "] \n"
      ],
      "execution_count": 0,
      "outputs": []
    },
    {
      "cell_type": "markdown",
      "metadata": {
        "id": "ctcVGrbON9CA",
        "colab_type": "text"
      },
      "source": [
        "## Let's start by downloading the data: "
      ]
    },
    {
      "cell_type": "code",
      "metadata": {
        "id": "5_LYktcKN9CC",
        "colab_type": "code",
        "outputId": "a929a67f-19fd-4b83-f665-22bc718c639a",
        "colab": {
          "base_uri": "https://localhost:8080/",
          "height": 54
        }
      },
      "source": [
        "# Note: Linux bash commands start with a \"!\" inside those \"ipython notebook\" cells\n",
        "\n",
        "\n",
        "\n",
        "DATASET_PATH = \"/content/drive/My Drive/UCI HAR Dataset/\"\n",
        "print(\"\\n\" + \"Dataset is now located at: \" + DATASET_PATH)\n"
      ],
      "execution_count": 0,
      "outputs": [
        {
          "output_type": "stream",
          "text": [
            "\n",
            "Dataset is now located at: /content/drive/My Drive/UCI HAR Dataset/\n"
          ],
          "name": "stdout"
        }
      ]
    },
    {
      "cell_type": "markdown",
      "metadata": {
        "id": "yLigABEQN9CO",
        "colab_type": "text"
      },
      "source": [
        "## Preparing dataset:"
      ]
    },
    {
      "cell_type": "code",
      "metadata": {
        "id": "rcfIY9A3N9CQ",
        "colab_type": "code",
        "colab": {}
      },
      "source": [
        "TRAIN = \"train/\"\n",
        "TEST = \"test/\"\n",
        "# Load \"X\" (the neural network's training and testing inputs)\n",
        "\n",
        "'''\n",
        "fpath = DATASET_PATH + \"/train/Inertial Signals/body_acc_x_train.txt\"\n",
        "fin =   open(fpath, 'r')\n",
        "check=[]\n",
        "\n",
        "check.append([np.array(serie, dtype=np.float32) for serie in [\n",
        "                row.replace('  ', ' ').strip().split(' ') for row in fin\n",
        "            ]])\n",
        "\n",
        "print(np.array(check[0]).shape)\n",
        "print(len(check))\n",
        "print(\">>>>>>>>>>>>>>>\")\n",
        "'''\n",
        "\n",
        "def load_X(X_signals_paths):\n",
        "    X_signals = []\n",
        "    \n",
        "    for signal_type_path in X_signals_paths:\n",
        "        file = open(signal_type_path, 'r')\n",
        "        # Read dataset from disk, dealing with text files' syntax\n",
        "        X_signals.append(\n",
        "            [np.array(serie) for serie in [\n",
        "                row.replace('  ', ' ').strip().split(' ') for row in file\n",
        "            ]]\n",
        "        )\n",
        "        print(np.array(X_signals).shape)\n",
        "        \n",
        "        file.close()\n",
        "    #print(len(X_signals[0]))\n",
        "    #print(\".....\")\n",
        "    #print(np.array(X_signals).shape)\n",
        "    return np.transpose(np.array(X_signals), (1, 2, 0))\n",
        "\n",
        "\"\"\"\n",
        "def load_X(X_signals_paths):\n",
        "    X_signals = []\n",
        "    \n",
        "    for signal_type_path in X_signals_paths:\n",
        "        file = open(signal_type_path, 'r')\n",
        "        # Read dataset from disk, dealing with text files' syntax\n",
        "        X_signals.append()\n",
        "            [np.array(serie, dtype=np.float32) for serie in [\n",
        "                row.replace('  ', ' ').strip().split(' ') for row in file\n",
        "            ]]\n",
        "        )\n",
        "        file.close()\n",
        "    #print(len(X_signals[0]))\n",
        "    #print(\".....\")\n",
        "    #print(np.array(X_signals).shape)\n",
        "    return np.transpose(np.array(X_signals), (1, 2, 0))\n",
        "\"\"\"\n",
        "\n",
        "X_train_signals_paths = [\n",
        "    DATASET_PATH + TRAIN + \"Inertial Signals/\" + signal + \"train.txt\" for signal in INPUT_SIGNAL_TYPES\n",
        "]\n",
        "X_test_signals_paths = [\n",
        "    DATASET_PATH + TEST + \"Inertial Signals/\" + signal + \"test.txt\" for signal in INPUT_SIGNAL_TYPES\n",
        "]\n",
        "print(X_train_signals_paths)\n",
        "\n",
        "\"\"\"\n",
        "def load_X(X_signals_paths):\n",
        "    X_signals = []\n",
        "    file = open(X_signals_paths,'r')\n",
        "    print(type(file))\n",
        "    X_signals.append([np.array(serie) for serie in \n",
        "                      [row.replace('  ', ' ').strip().split(' ') for row in X_signals_paths]])\n",
        "    file.close()\n",
        "    #print(len(X_signals[0]))\n",
        "    #print(\".....\")\n",
        "    #print(np.array(X_signals).shape)\n",
        "    return np.transpose(np.array(X_signals), (1, 2, 0))\n",
        "\"\"\"\n",
        "\n",
        "\"\"\"\n",
        "X_train_signals_paths = [\n",
        "    DATASET_PATH + \"X_train.txt\" \n",
        "]\n",
        "\"\"\"\n",
        "\n",
        "#X_train_signals_paths = DATASET_PATH +  \"X_train.txt\"\n",
        "#print(X_train_signals_paths)\n",
        "X_train = load_X(X_train_signals_paths) #list of file names as argument\n",
        "print(X_train.shape)\n",
        "print(X_train[200][2])\n",
        "\n",
        "\n",
        "\"\"\"\n",
        "print(X_train.shape)\n",
        "\n",
        "for num in X_train[10][0]:\n",
        "  num = np.array(num)\n",
        "  print (num.shape)\n",
        "\"\"\"  \n",
        "\n",
        "\n",
        "#print(X_train[10][0])\n",
        "\n",
        "#print(\"-------------------\")\n",
        "#print(\"test data\")\n",
        "#X_test = load_X(X_test_signals_paths)\n",
        "\n",
        "\n",
        "# Load \"y\" (the neural network's training and testing outputs)\n",
        "\n",
        "def load_y(y_path):\n",
        "    file = open(y_path, 'r')\n",
        "    # Read dataset from disk, dealing with text file's syntax\n",
        "    y_ = np.array(\n",
        "        [elem for elem in [\n",
        "            row.replace('  ', ' ').strip().split(' ') for row in file\n",
        "        ]], \n",
        "        dtype=np.int32\n",
        "    ) \n",
        "    file.close()\n",
        "    \n",
        "    # Substract 1 to each output class for friendly 0-based indexing \n",
        "    return y_ - 1\n",
        "\n",
        "#y_train_path = DATASET_PATH + TRAIN + \"y_train.txt\"\n",
        "y_train_path = DATASET_PATH + \"y_train.txt\"\n",
        "\n",
        "#y_test_path = DATASET_PATH + TEST + \"y_test.txt\"\n",
        "\n",
        "y_train = load_y(y_train_path)\n",
        "#y_test = load_y(y_test_path)\n",
        "\n",
        "#print(X_train) [ 0 17  6]\n",
        " [ 0 17  6]"
      ],
      "execution_count": 0,
      "outputs": []
    },
    {
      "cell_type": "code",
      "metadata": {
        "id": "7QpgqGsmLz0G",
        "colab_type": "code",
        "colab": {}
      },
      "source": [
        "LABELS = [\n",
        "    \"SIT\",\n",
        "    \"WALK\",\n",
        "    \"STAND\"\n",
        "    ] \n",
        "\n"
      ],
      "execution_count": 0,
      "outputs": []
    },
    {
      "cell_type": "code",
      "metadata": {
        "id": "jq53kKH3g-Xm",
        "colab_type": "code",
        "outputId": "0ae5fd76-f46f-42f3-ab98-e2e1466d0a68",
        "colab": {
          "base_uri": "https://localhost:8080/",
          "height": 54
        }
      },
      "source": [
        "DATASET_PATH = \"/content\"\n",
        "print(\"\\n\" + \"Dataset is now located at: \" + DATASET_PATH)\n",
        "\n",
        "INPUT_CLASSES = [\n",
        "    \"sit\",\n",
        "    \"walk\",\n",
        "    \"stand\" ]"
      ],
      "execution_count": 4,
      "outputs": [
        {
          "output_type": "stream",
          "text": [
            "\n",
            "Dataset is now located at: /content\n"
          ],
          "name": "stdout"
        }
      ]
    },
    {
      "cell_type": "markdown",
      "metadata": {
        "id": "sL7F8i5GZEor",
        "colab_type": "text"
      },
      "source": [
        "THIS ONE WITH SEPERATE INPUT FILES:"
      ]
    },
    {
      "cell_type": "code",
      "metadata": {
        "id": "SdScz-lJj7Ho",
        "colab_type": "code",
        "colab": {
          "base_uri": "https://localhost:8080/",
          "height": 200
        },
        "outputId": "2616da6c-bf99-4cbf-f968-0cee6c9bba70"
      },
      "source": [
        "import pandas  as pd\n",
        "\n",
        "\n",
        "X_train_signals_paths = [\n",
        "    DATASET_PATH + \"/train/\" + signal + \".csv\" for signal in INPUT_CLASSES\n",
        "]\n",
        "#print(X_train_signals_paths)\n",
        "\n",
        "X_test_signals_paths = [\n",
        "     DATASET_PATH + \"/test/\" + signal + \".csv\" for signal in INPUT_CLASSES\n",
        "                        \n",
        "]\n",
        "\n",
        "\n",
        "\n",
        "#initialize the variables to set up the xtrain \n",
        "j = 0 \n",
        "n = 20           \n",
        "label = 0\n",
        "window_size = 10 \n",
        "x_list = []\n",
        "yt = []\n",
        "x_test = []\n",
        "ytest = []\n",
        "#To create the xtrain \n",
        "for signal_type_path in X_train_signals_paths:\n",
        "  print(signal_type_path)\n",
        "  pdf = pd.read_csv(signal_type_path, header=None)\n",
        "  pdf = pdf.drop(pdf.index[0])\n",
        "\n",
        "  for i in range(36,39):\n",
        "    pdf.drop([i], axis=1, inplace = True)\n",
        "  \n",
        "  length = len(pdf)\n",
        "  iters = int(((length - n)/10) + 1)\n",
        "  #print(iters)\n",
        "  for i in range(iters):\n",
        "    x_list.append(np.array(pdf.iloc[ j   : j + n    ,  :  ]))\n",
        "    yt.append(np.array(label).reshape(-1))\n",
        "    j = j + window_size\n",
        "  j = 0\n",
        "  label = label + 1   \n",
        "\n",
        "label = 0 \n",
        "\n",
        "#To create the xtest\n",
        "for signal_type_path in X_test_signals_paths:\n",
        "  print(signal_type_path)\n",
        "  pdf = pd.read_csv(signal_type_path, header=None)\n",
        "  pdf = pdf.drop(pdf.index[0])\n",
        "\n",
        "  for i in range(36,39):\n",
        "    pdf.drop([i], axis=1, inplace = True)\n",
        "  \n",
        "  length = len(pdf)\n",
        "  \n",
        "  #print(iters)\n",
        "  for i in range(length):\n",
        "    if i % 20 == 0:\n",
        "      x_test.append(np.array(pdf.iloc[ i   : i + n    ,  :  ]))\n",
        "      ytest.append(np.array(label).reshape(-1))\n",
        "  \n",
        "  label = label + 1       \n",
        "\n",
        "\n",
        "\n",
        "\n",
        "\n",
        "y_train = np.array(yt)\n",
        "X_train = np.array(x_list)\n",
        "\n",
        "X_test = np.array(x_test)\n",
        "y_test = np.array(ytest) \n",
        "\n",
        "print(\"x train shape:\",X_train.shape)\n",
        "print(\"y train shape:\",y_train.shape)\n",
        "print(\"x test shape:\", X_test.shape)\n",
        "print(\"y test shape:\", y_test.shape)\n",
        "\n"
      ],
      "execution_count": 5,
      "outputs": [
        {
          "output_type": "stream",
          "text": [
            "/content/train/sit.csv\n",
            "/content/train/walk.csv\n",
            "/content/train/stand.csv\n",
            "/content/test/sit.csv\n",
            "/content/test/walk.csv\n",
            "/content/test/stand.csv\n",
            "x train shape: (237, 20, 36)\n",
            "y train shape: (237, 1)\n",
            "x test shape: (75, 20, 36)\n",
            "y test shape: (75, 1)\n"
          ],
          "name": "stdout"
        }
      ]
    },
    {
      "cell_type": "markdown",
      "metadata": {
        "id": "IlmWbXOhY_1i",
        "colab_type": "text"
      },
      "source": [
        "ONE WITH OVERLAPS"
      ]
    },
    {
      "cell_type": "code",
      "metadata": {
        "id": "Ie8g43MzvCvr",
        "colab_type": "code",
        "outputId": "fb3fa978-49e0-4fae-9bdf-77f664c9b50e",
        "colab": {
          "base_uri": "https://localhost:8080/",
          "height": 218
        }
      },
      "source": [
        "import pandas as pd\n",
        "path= \"/content/threeactivity - threeactivity.csv\"\n",
        "x_list = []\n",
        "x_test = []\n",
        "y_list = []\n",
        "y_test = []\n",
        "\n",
        "#read the csv files for inputs\n",
        "pdf = pd.read_csv(path, header=None) #x_train \n",
        "pdf = pdf.drop(pdf.index[0]) #dropping the first row containing the cols labels\n",
        "pdf2 =  pd.read_csv(\"/content/xtestwalk.csv\", header=None) #x_test\n",
        "\n",
        "#read the csv files for outputs\n",
        "pdfytest = pd.read_csv(\"/content/ytestwalk2.csv\", header=None)\n",
        "pdfytrain = pd.read_csv(\"/content/drive/My Drive/lstm_data/threeactivity/ytrain.csv\", header=None)\n",
        "\n",
        "y_test = pdfytest.values.tolist()\n",
        "y_list = pdfytrain.values.tolist()\n",
        "\n",
        "#print(np.array(y_test).shape)\n",
        "#print(np.array(y_list).shape)\n",
        "\n",
        "#dropping last two columns \n",
        "for i in range(36,39):\n",
        "  pdf.drop([i], axis=1, inplace = True)\n",
        "\n",
        "for i in range(36,39):\n",
        "  pdf2.drop([i], axis=1, inplace = True)\n",
        "\n",
        "j = 0 \n",
        "k = 0\n",
        "count = 1\n",
        "#taking sequences of 6 frames from 300 rows\n",
        "\n",
        "n = 20 #length of sequence\n",
        "window_size = 10\n",
        "length = len(pdf.index) #no. of rows\n",
        "iters = int(((length - n)/10) + 1 - 2) \n",
        "print(iters)\n",
        "chunk_size = int(((length-n)/window_size) + 1)\n",
        "#print (chunk_size)\n",
        "#print(\"iters\", iters)\n",
        "\n",
        "for i in range(iters):\n",
        "  if j == 790:\n",
        "     j = 800\n",
        "     #print(\"here 1\")\n",
        "  \n",
        "  if j == 1590:\n",
        "    j = 1600\n",
        "    #print(\"change:\",j)\n",
        "    #print(\"here 2\")\n",
        " \n",
        "  \n",
        "  #if count % n == 0:\n",
        "  x_list.append(np.array(pdf.iloc[ j   : j + n    ,  :  ]))\n",
        "  #print(\"this one:\",pdf.iloc[0:20,:])\n",
        "  #count = 0\n",
        "  j = j + window_size\n",
        "  #print(\"after append j:\", j)\n",
        "\n",
        "  #count = count + 1\n",
        "\"\"\"\n",
        "if chunk_size!= len(x_list):\n",
        "  sys.exit('chunk size not long enough') \n",
        "\n",
        "\"\"\"\n",
        "print(len(pdf2.index))\n",
        "iters2 =  int(((len(pdf2.index) - n)/10)+ 1 - 2) \n",
        "print(iters2)\n",
        "chunk_size2 = int(((len(pdf2.index)-n)/window_size) + 1)\n",
        "print(chunk_size2)\n",
        "count = 0\n",
        "\n",
        "\n",
        "for i in range(len(pdf2)):\n",
        "  #if k == 230:  #190\n",
        "  #  k = 240     #200 \n",
        "  #if k == 430:  #390\n",
        "  #  k = 440   #400\n",
        "  n = randrange(5,20)\n",
        "  #if count % n == 0:\n",
        "  x_test.append(np.array(pdf2.iloc[ k   : k + n    ,  :  ]))\n",
        "  #print(x_list)\n",
        "  #count = 0\n",
        "  #k = k + 20 #window_size\n",
        "  #print(\"j\", j)  \n",
        "  #print(\"n\",n)\n",
        "  k = k + n\n",
        "  #print(\"k\",k)\n",
        "  if k >= len(pdf2):\n",
        "    break\n",
        "  count = count + 1\n",
        "\n",
        "\n",
        "\n",
        "print(count)\n",
        "#print (np.array(x_test).shape)\n",
        "#print (np.array(x_list).shape)\n",
        "\n",
        "X_train = np.array(x_list)\n",
        "X_test = np.array(x_test)\n",
        "y_test = np.array(y_test)\n",
        "y_train = np.array(y_list)\n",
        "\n",
        "#print(X_train[39][19])\n",
        "#print(X_train[79])\n",
        "\n",
        "\n",
        "print(\"x_test\",X_test.shape)\n",
        "print(\"x train:\", X_train.shape)\n",
        "print(\"x test:\", X_test.shape)\n",
        "print(\"y test:\",y_test.shape)\n",
        "print(\"y train:\",y_train.shape)\n",
        "\n",
        "\n",
        "print(np.array(x_test).shape)\n",
        "\n",
        "#x.append(np.array(pdf.loc[0][0:36]).reshape(-1))\n",
        "#print(np.array(x).shape)\n"
      ],
      "execution_count": 93,
      "outputs": [
        {
          "output_type": "stream",
          "text": [
            "237\n",
            "240\n",
            "21\n",
            "23\n",
            "19\n",
            "x_test (20,)\n",
            "x train: (237, 20, 36)\n",
            "x test: (20,)\n",
            "y test: (12, 1)\n",
            "y train: (237, 1)\n",
            "(20,)\n"
          ],
          "name": "stdout"
        }
      ]
    },
    {
      "cell_type": "code",
      "metadata": {
        "id": "7lxZcs5-c5eR",
        "colab_type": "code",
        "colab": {
          "base_uri": "https://localhost:8080/",
          "height": 35
        },
        "outputId": "68f64ee1-97e8-4f19-ae1e-3611c937d8ef"
      },
      "source": [
        "pdfytest = pd.read_csv(\"/content/ytestx.csv\", header=None)\n",
        "y_test = pdfytest.values.tolist()\n",
        "y_test = np.array(y_test)\n",
        "print(y_test.shape)\n"
      ],
      "execution_count": 11,
      "outputs": [
        {
          "output_type": "stream",
          "text": [
            "(21, 1)\n"
          ],
          "name": "stdout"
        }
      ]
    },
    {
      "cell_type": "code",
      "metadata": {
        "id": "c8dv2cPZxCAy",
        "colab_type": "code",
        "outputId": "699f644f-ee74-4ecc-8d3d-48a0d83e5ec2",
        "colab": {
          "base_uri": "https://localhost:8080/",
          "height": 128
        }
      },
      "source": [
        "from google.colab import drive\n",
        "drive.mount('/content/drive')"
      ],
      "execution_count": 5,
      "outputs": [
        {
          "output_type": "stream",
          "text": [
            "Go to this URL in a browser: https://accounts.google.com/o/oauth2/auth?client_id=947318989803-6bn6qk8qdgf4n4g3pfee6491hc0brc4i.apps.googleusercontent.com&redirect_uri=urn%3aietf%3awg%3aoauth%3a2.0%3aoob&response_type=code&scope=email%20https%3a%2f%2fwww.googleapis.com%2fauth%2fdocs.test%20https%3a%2f%2fwww.googleapis.com%2fauth%2fdrive%20https%3a%2f%2fwww.googleapis.com%2fauth%2fdrive.photos.readonly%20https%3a%2f%2fwww.googleapis.com%2fauth%2fpeopleapi.readonly\n",
            "\n",
            "Enter your authorization code:\n",
            "··········\n",
            "Mounted at /content/drive\n"
          ],
          "name": "stdout"
        }
      ]
    },
    {
      "cell_type": "code",
      "metadata": {
        "id": "0s8aSN82otvd",
        "colab_type": "code",
        "outputId": "11d6f02b-c5d5-441d-ba14-616228c74ed0",
        "colab": {
          "base_uri": "https://localhost:8080/",
          "height": 35
        }
      },
      "source": [
        "print(x_test[10].shape)"
      ],
      "execution_count": 0,
      "outputs": [
        {
          "output_type": "stream",
          "text": [
            "(8, 36)\n"
          ],
          "name": "stdout"
        }
      ]
    },
    {
      "cell_type": "code",
      "metadata": {
        "id": "jtTnlripHQ6n",
        "colab_type": "code",
        "outputId": "85ad0e88-7c0f-4d3f-a340-96673d675d71",
        "colab": {
          "base_uri": "https://localhost:8080/",
          "height": 35
        }
      },
      "source": [
        "from google.colab import drive\n",
        "drive.mount('/content/drive',force_remount=True)"
      ],
      "execution_count": 0,
      "outputs": [
        {
          "output_type": "stream",
          "text": [
            "Mounted at /content/drive\n"
          ],
          "name": "stdout"
        }
      ]
    },
    {
      "cell_type": "code",
      "metadata": {
        "id": "59fYudPHogYG",
        "colab_type": "code",
        "outputId": "fcd73344-c90c-4a1d-9007-3d3c65d56241",
        "colab": {
          "base_uri": "https://localhost:8080/",
          "height": 35
        }
      },
      "source": [
        "y_test = []\n",
        "\n",
        "for i in range(len(x_test)):\n",
        "  y_test.append(1)\n",
        "\n",
        "\n",
        "y_test = np.array(y_test).reshape(22,1)\n",
        "\n",
        "print(y_test.shape)"
      ],
      "execution_count": 0,
      "outputs": [
        {
          "output_type": "stream",
          "text": [
            "(22, 1)\n"
          ],
          "name": "stdout"
        }
      ]
    },
    {
      "cell_type": "markdown",
      "metadata": {
        "id": "3QNk5k0AN9CZ",
        "colab_type": "text"
      },
      "source": [
        "## Additionnal Parameters:\n",
        "\n",
        "Here are some core parameter definitions for the training. \n",
        "\n",
        "For example, the whole neural network's structure could be summarised by enumerating those parameters and the fact that two LSTM are used one on top of another (stacked) output-to-input as hidden layers through time steps. "
      ]
    },
    {
      "cell_type": "code",
      "metadata": {
        "id": "wkkL6nSZN9Cb",
        "colab_type": "code",
        "outputId": "c4f60b8a-306a-41c4-a297-1d2ed546f97f",
        "colab": {
          "base_uri": "https://localhost:8080/",
          "height": 328
        }
      },
      "source": [
        "# Input Data \n",
        "\n",
        "training_data_count = len(X_train)  # 7352 training series (with 50% overlap between each serie)\n",
        "test_data_count = len(X_test)  # 2947 testing series\n",
        "n_steps = len(X_train[0])  # 128 timesteps per series\n",
        "print(\"here is X_train\")\n",
        "print (\"no. of rows in x train:\", len(X_train))\n",
        "print (\"...........\")\n",
        "print (\"here\")\n",
        "print(\"...........\")\n",
        "print(\"X_train\")\n",
        "print(X_train[0][0])\n",
        "print(\"shape of train data:\",X_train.shape)\n",
        "print(\"----------------\")\n",
        "print (\"time steps:\",n_steps)\n",
        "n_input = len(X_train[0][0])  # 9 input parameters per timestep\n",
        "print(\"n_input:\", n_input)\n",
        "\n",
        "# LSTM Neural Network's internal structure\n",
        "\n",
        "n_hidden = 48 # Hidden layer num of features 32\n",
        "n_classes = 3 # Total classes (should go up, or should go down)\n",
        "\n",
        "\n",
        "# Training \n",
        "\n",
        "learning_rate = 0.0025\n",
        "lambda_loss_amount = 0.0015\n",
        "training_iters = training_data_count * 10  # Loop 300 times on the dataset\n",
        "batch_size = 500 #1500\n",
        "display_iter = 20  # To show test set accuracy during training 30000\n",
        "\n",
        "\n",
        "# Some debugging info\n",
        "\n",
        "print(\"Some useful info to get an insight on dataset's shape and normalisation:\")\n",
        "print(\"(X shape, y shape, every X's mean, every X's standard deviation)\")\n",
        "print(X_test.shape, y_test.shape)#, np.mean(X_test), np.std(X_test))\n",
        "print(\"The dataset is therefore properly normalised, as expected, but not yet one-hot encoded.\")\n"
      ],
      "execution_count": 6,
      "outputs": [
        {
          "output_type": "stream",
          "text": [
            "here is X_train\n",
            "no. of rows in x train: 237\n",
            "...........\n",
            "here\n",
            "...........\n",
            "X_train\n",
            "['0' '0' '0' '0' '0.2' '-0.1' '0.4' '0.2' '0' '0' '-0.4' '0' '-0.6' '0.3'\n",
            " '0' '0' '0.2' '0.5' '0' '0' '0' '0' '-0.2' '0.5' '-0.6' '0.4' '-0.6'\n",
            " '0.8' '0' '0' '0' '0' '0' '-0.2' '-0.4' '-0.2']\n",
            "shape of train data: (237, 20, 36)\n",
            "----------------\n",
            "time steps: 20\n",
            "n_input: 36\n",
            "Some useful info to get an insight on dataset's shape and normalisation:\n",
            "(X shape, y shape, every X's mean, every X's standard deviation)\n",
            "(75, 20, 36) (75, 1)\n",
            "The dataset is therefore properly normalised, as expected, but not yet one-hot encoded.\n"
          ],
          "name": "stdout"
        }
      ]
    },
    {
      "cell_type": "markdown",
      "metadata": {
        "id": "iNQAaYCAN9Ci",
        "colab_type": "text"
      },
      "source": [
        "## Utility functions for training:"
      ]
    },
    {
      "cell_type": "code",
      "metadata": {
        "id": "l6N0CA42N9Cl",
        "colab_type": "code",
        "colab": {}
      },
      "source": [
        "def LSTM_RNN(_X, _weights, _biases):\n",
        "    # Function returns a tensorflow LSTM (RNN) artificial neural network from given parameters. \n",
        "    # Moreover, two LSTM cells are stacked which adds deepness to the neural network. \n",
        "    # Note, some code of this notebook is inspired from an slightly different \n",
        "    # RNN architecture used on another dataset, some of the credits goes to \n",
        "    # \"aymericdamien\" under the MIT license.\n",
        "\n",
        "    # (NOTE: This step could be greatly optimised by shaping the dataset once\n",
        "    # input shape: (batch_size, n_steps, n_input)\n",
        "    _X = tf.transpose(_X, [1, 0, 2])  # permute n_steps and batch_size\n",
        "    # Reshape to prepare input to hidden activation\n",
        "    _X = tf.reshape(_X, [-1, n_input]) \n",
        "    # new shape: (n_steps*batch_size, n_input)\n",
        "    \n",
        "    # ReLU activation, thanks to Yu Zhao for adding this improvement here:\n",
        "    _X = tf.nn.relu(tf.matmul(_X, _weights['hidden']) + _biases['hidden'])\n",
        "    # Split data because rnn cell needs a list of inputs for the RNN inner loop\n",
        "    _X = tf.split(_X, n_steps, 0) \n",
        "    # new shape: n_steps * (batch_size, n_hidden)\n",
        "\n",
        "    # Define two stacked LSTM cells (two recurrent layers deep) with tensorflow\n",
        "    \n",
        "    #lstm_cell_1 = tf.contrib.rnn.BasicLSTMCell(n_hidden, forget_bias=1.0, state_is_tuple=True)\n",
        "    lstm_cell_1 = tf.compat.v1.nn.rnn_cell.LSTMCell(n_hidden, forget_bias=1.0, state_is_tuple=True, reuse = tf.AUTO_REUSE)\n",
        "    \n",
        "    #lstm_cell_2 = tf.contrib.rnn.BasicLSTMCell(n_hidden, forget_bias=1.0, state_is_tuple=True)\n",
        "    lstm_cell_2 = tf.compat.v1.nn.rnn_cell.LSTMCell(n_hidden, forget_bias=1.0, state_is_tuple=True, reuse = tf.AUTO_REUSE)\n",
        "    \n",
        "    #lstm_cells = tf.contrib.rnn.MultiRNNCell([lstm_cell_1, lstm_cell_2], state_is_tuple=True)\n",
        "    lstm_cells = tf.compat.v1.nn.rnn_cell.MultiRNNCell([lstm_cell_1,lstm_cell_2], state_is_tuple=True)\n",
        "    # Get LSTM cell output\n",
        "    #outputs, states = tf.contrib.rnn.static_rnn(lstm_cells, _X, dtype=tf.float32)\n",
        "    outputs, states = tf.compat.v1.nn.static_rnn(lstm_cells, _X, dtype=tf.float32)\n",
        "    # Get last time step's output feature for a \"many-to-one\" style classifier, \n",
        "    # as in the image describing RNNs at the top of this page\n",
        "    lstm_last_output = outputs[-1]\n",
        "    \n",
        "    # Linear activation\n",
        "    return tf.matmul(lstm_last_output, _weights['out']) + _biases['out']\n",
        "\n",
        "\n",
        "def extract_batch_size(_train, step, batch_size):\n",
        "    # Function to fetch a \"batch_size\" amount of data from \"(X|y)_train\" data. \n",
        "    #X_train ,y_train\n",
        "    #batch_size = 100\n",
        "    shape = list(_train.shape)\n",
        "    shape[0] = batch_size\n",
        "    batch_s = np.empty(shape)\n",
        "\n",
        "    for i in range(batch_size):\n",
        "        # Loop index\n",
        "        index = ((step-1)*batch_size + i) % len(_train)\n",
        "        batch_s[i] = _train[index] \n",
        "\n",
        "    return batch_s\n",
        "\n",
        "\n",
        "def one_hot(y_, n_classes=n_classes):\n",
        "    # Function to encode neural one-hot output labels from number indexes \n",
        "    # e.g.: \n",
        "    #from batch extracted from y train data\n",
        "    # one_hot(y_=[[5], [0], [3]], n_classes=6):\n",
        "    #     return [[0, 0, 0, 0, 0, 1], [1, 0, 0, 0, 0, 0], [0, 0, 0, 1, 0, 0]]\n",
        "    \n",
        "    y_ = y_.reshape(len(y_))\n",
        "    print(y_.shape)\n",
        "    return np.eye(n_classes)[np.array(y_, dtype=np.int32)]  # Returns FLOATS\n"
      ],
      "execution_count": 0,
      "outputs": []
    },
    {
      "cell_type": "markdown",
      "metadata": {
        "id": "V5Hc_IjMN9Ct",
        "colab_type": "text"
      },
      "source": [
        "## Let's get serious and build the neural network:"
      ]
    },
    {
      "cell_type": "code",
      "metadata": {
        "id": "8GpoT0BeN9Cw",
        "colab_type": "code",
        "outputId": "ac4a7b7e-05ea-43ea-9d11-39b753279289",
        "colab": {
          "base_uri": "https://localhost:8080/",
          "height": 458
        }
      },
      "source": [
        "\n",
        "# Graph input/output\n",
        "x = tf.placeholder(tf.float32, [None, n_steps, n_input])\n",
        "y = tf.placeholder(tf.float32, [None, n_classes])\n",
        "\n",
        "# Graph weights\n",
        "weights = {\n",
        "    'hidden': tf.Variable(tf.random_normal([n_input, n_hidden])), # Hidden layer weights\n",
        "    'out': tf.Variable(tf.random_normal([n_hidden, n_classes], mean=1.0))\n",
        "}\n",
        "biases = {\n",
        "    'hidden': tf.Variable(tf.random_normal([n_hidden])),\n",
        "    'out': tf.Variable(tf.random_normal([n_classes]))\n",
        "}\n",
        "\n",
        "pred = LSTM_RNN(x, weights, biases)\n",
        "\n",
        "# Loss, optimizer and evaluation\n",
        "l2 = lambda_loss_amount * sum(\n",
        "    tf.nn.l2_loss(tf_var) for tf_var in tf.trainable_variables()\n",
        ") # L2 loss prevents this overkill neural network to overfit the data\n",
        "cost = tf.reduce_mean(tf.nn.softmax_cross_entropy_with_logits(labels=y, logits=pred)) + l2 # Softmax loss\n",
        "optimizer = tf.train.AdamOptimizer(learning_rate=learning_rate).minimize(cost) # Adam Optimizer\n",
        "\n",
        "correct_pred = tf.equal(tf.argmax(pred,1), tf.argmax(y,1))\n",
        "accuracy = tf.reduce_mean(tf.cast(correct_pred, tf.float32))\n"
      ],
      "execution_count": 8,
      "outputs": [
        {
          "output_type": "stream",
          "text": [
            "WARNING:tensorflow:From <ipython-input-7-17137d47fca9>:24: LSTMCell.__init__ (from tensorflow.python.ops.rnn_cell_impl) is deprecated and will be removed in a future version.\n",
            "Instructions for updating:\n",
            "This class is equivalent as tf.keras.layers.LSTMCell, and will be replaced by that in Tensorflow 2.0.\n",
            "WARNING:tensorflow:From <ipython-input-7-17137d47fca9>:30: MultiRNNCell.__init__ (from tensorflow.python.ops.rnn_cell_impl) is deprecated and will be removed in a future version.\n",
            "Instructions for updating:\n",
            "This class is equivalent as tf.keras.layers.StackedRNNCells, and will be replaced by that in Tensorflow 2.0.\n",
            "WARNING:tensorflow:From <ipython-input-7-17137d47fca9>:33: static_rnn (from tensorflow.python.ops.rnn) is deprecated and will be removed in a future version.\n",
            "Instructions for updating:\n",
            "Please use `keras.layers.RNN(cell, unroll=True)`, which is equivalent to this API\n",
            "WARNING:tensorflow:From /tensorflow-1.15.2/python3.6/tensorflow_core/python/ops/rnn_cell_impl.py:958: Layer.add_variable (from tensorflow.python.keras.engine.base_layer) is deprecated and will be removed in a future version.\n",
            "Instructions for updating:\n",
            "Please use `layer.add_weight` method instead.\n",
            "WARNING:tensorflow:From /tensorflow-1.15.2/python3.6/tensorflow_core/python/ops/rnn_cell_impl.py:962: calling Zeros.__init__ (from tensorflow.python.ops.init_ops) with dtype is deprecated and will be removed in a future version.\n",
            "Instructions for updating:\n",
            "Call initializer instance with the dtype argument instead of passing it to the constructor\n",
            "WARNING:tensorflow:From <ipython-input-8-a44e4023188d>:20: softmax_cross_entropy_with_logits (from tensorflow.python.ops.nn_ops) is deprecated and will be removed in a future version.\n",
            "Instructions for updating:\n",
            "\n",
            "Future major versions of TensorFlow will allow gradients to flow\n",
            "into the labels input on backprop by default.\n",
            "\n",
            "See `tf.nn.softmax_cross_entropy_with_logits_v2`.\n",
            "\n"
          ],
          "name": "stdout"
        }
      ]
    },
    {
      "cell_type": "markdown",
      "metadata": {
        "id": "75JjEQOUN9C3",
        "colab_type": "text"
      },
      "source": [
        "## Hooray, now train the neural network:"
      ]
    },
    {
      "cell_type": "code",
      "metadata": {
        "scrolled": true,
        "id": "qIV-cY-uN9C5",
        "colab_type": "code",
        "outputId": "afc57e80-b4b1-4edb-b844-afa5c5181184",
        "colab": {
          "base_uri": "https://localhost:8080/",
          "height": 419
        }
      },
      "source": [
        "# To keep track of training's performance\n",
        "\n",
        "\n",
        "\n",
        "test_losses = []\n",
        "test_accuracies = []\n",
        "train_losses = []\n",
        "train_accuracies = []\n",
        "\n",
        "# Launch the graph\n",
        "sess = tf.InteractiveSession(config=tf.ConfigProto(log_device_placement=True))\n",
        "init = tf.global_variables_initializer()\n",
        "sess.run(init)\n",
        "#sess.close()\n",
        "\n",
        "\n",
        "# Perform Training steps with \"batch_size\" amount of example data at each loop\n",
        "step = 1\n",
        "while step * batch_size <= training_iters:\n",
        "    batch_xs =         extract_batch_size(X_train, step, batch_size)\n",
        "    batch_ys = one_hot(extract_batch_size(y_train, step, batch_size))\n",
        "\n",
        "                \n",
        "    # Fit training using batch data\n",
        "    \n",
        "    _, loss, acc = sess.run(\n",
        "        [optimizer, cost, accuracy],\n",
        "        feed_dict={\n",
        "            x: batch_xs, \n",
        "            y: batch_ys\n",
        "        }\n",
        "    )\n",
        "    #60000\n",
        "    #train_losses.append(cost_val)\n",
        "    train_losses.append(loss)\n",
        "    train_accuracies.append(acc)\n",
        "    \n",
        "    # Evaluate network only at some steps for faster training: \n",
        "    if (step*batch_size % display_iter == 0) or (step == 1) or (step * batch_size > training_iters):\n",
        "        \n",
        "        # To not spam console, show training accuracy/loss in this \"if\"\n",
        "        print(\"Training iter #\" + str(step*batch_size) + \\\n",
        "              \":   Batch Loss = \" + \"{:.6f}\".format(loss) + \\\n",
        "              \", Accuracy = {}\".format(acc))\n",
        "        \n",
        "        # Evaluation on the test set (no learning made here - just evaluation for diagnosis)\n",
        "        loss, acc = sess.run(\n",
        "            [cost, accuracy], \n",
        "            feed_dict={\n",
        "                x: X_test,\n",
        "                y: one_hot(y_test)\n",
        "            }\n",
        "        )\n",
        "        test_losses.append(loss)\n",
        "        test_accuracies.append(acc)\n",
        "        print(\"PERFORMANCE ON TEST SET: \" + \\\n",
        "              \"Batch Loss = {}\".format(loss) + \\\n",
        "              \", Accuracy = {}\".format(acc))\n",
        "\n",
        "    step += 1\n",
        "\n",
        "print(\"Optimization Finished!\")\n",
        "\n",
        "# Accuracy for test data\n",
        "\n",
        "one_hot_predictions, accuracy, final_loss = sess.run(\n",
        "    [pred, accuracy, cost],\n",
        "    feed_dict={\n",
        "        x: X_test,\n",
        "        y: one_hot(y_test)\n",
        "    }\n",
        ")\n",
        "\n",
        "test_losses.append(final_loss)\n",
        "test_accuracies.append(accuracy)\n",
        "\n",
        "print(\"FINAL RESULT: \" + \\\n",
        "      \"Batch Loss = {}\".format(final_loss) + \\\n",
        "      \", Accuracy = {}\".format(accuracy))"
      ],
      "execution_count": 9,
      "outputs": [
        {
          "output_type": "stream",
          "text": [
            "Device mapping:\n",
            "/job:localhost/replica:0/task:0/device:XLA_CPU:0 -> device: XLA_CPU device\n",
            "\n",
            "(500,)\n",
            "Training iter #500:   Batch Loss = 3.829781, Accuracy = 0.3160000145435333\n",
            "(75,)\n",
            "PERFORMANCE ON TEST SET: Batch Loss = 2.850907802581787, Accuracy = 0.5199999809265137\n",
            "(500,)\n",
            "Training iter #1000:   Batch Loss = 2.763350, Accuracy = 0.44600000977516174\n",
            "(75,)\n",
            "PERFORMANCE ON TEST SET: Batch Loss = 2.6969499588012695, Accuracy = 0.46666666865348816\n",
            "(500,)\n",
            "Training iter #1500:   Batch Loss = 2.493284, Accuracy = 0.5360000133514404\n",
            "(75,)\n",
            "PERFORMANCE ON TEST SET: Batch Loss = 2.389711856842041, Accuracy = 0.54666668176651\n",
            "(500,)\n",
            "Training iter #2000:   Batch Loss = 2.252366, Accuracy = 0.6299999952316284\n",
            "(75,)\n",
            "PERFORMANCE ON TEST SET: Batch Loss = 2.1574108600616455, Accuracy = 0.800000011920929\n",
            "Optimization Finished!\n",
            "(75,)\n",
            "FINAL RESULT: Batch Loss = 2.1574108600616455, Accuracy = 0.800000011920929\n"
          ],
          "name": "stdout"
        }
      ]
    },
    {
      "cell_type": "code",
      "metadata": {
        "id": "cdh4Oy_8pDg5",
        "colab_type": "code",
        "outputId": "977ad425-b7c5-4806-8d89-e3601f3971eb",
        "colab": {
          "base_uri": "https://localhost:8080/",
          "height": 108
        }
      },
      "source": [
        "print(np.array(test_losses)\n",
        "---> 85     return array(a, dtype, copy=False, order=order)\n",
        "     86 \n",
        "     87 \n",
        "\n",
        "ValueError: setting an array element with a sequence..shape)\n",
        "print(np.array(test_accuracies).shape)\n",
        "\n",
        "print(np.array(train_losses).shape)\n",
        "print(np.array(train_accuracies).shape)\n",
        "\n",
        "\n",
        "print(train_losses[0])"
      ],
      "execution_count": 0,
      "outputs": [
        {
          "output_type": "stream",
          "text": [
            "(24,)\n",
            "(24,)\n",
            "(23,)\n",
            "(23,)\n",
            "3.644886\n"
          ],
          "name": "stdout"
        }
      ]
    },
    {
      "cell_type": "markdown",
      "metadata": {
        "id": "0gNcGasnN9DA",
        "colab_type": "text"
      },
      "source": [
        "## Training is good, but having visual insight is even better:\n",
        "\n",
        "Okay, let's plot this simply in the notebook for now."
      ]
    },
    {
      "cell_type": "code",
      "metadata": {
        "id": "ZIgqHFNAN9DE",
        "colab_type": "code",
        "outputId": "0ca824f9-5ba6-4c8d-f46a-9d241ab2d291",
        "colab": {
          "base_uri": "https://localhost:8080/",
          "height": 1000
        }
      },
      "source": [
        "# (Inline plots: )\n",
        "%matplotlib inline\n",
        "\n",
        "font = {\n",
        "    'family' : 'Bitstream Vera Sans',\n",
        "    'weight' : 'bold',\n",
        "    'size'   : 18\n",
        "}\n",
        "matplotlib.rc('font', **font)\n",
        "\n",
        "width = 12\n",
        "height = 12\n",
        "plt.figure(figsize=(width, height))\n",
        "\n",
        "indep_train_axis = np.array(range(batch_size, (len(train_losses)+1)*batch_size, batch_size))\n",
        "plt.plot(indep_train_axis, np.array(train_losses),     \"b--\", label=\"Train losses\")\n",
        "plt.plot(indep_train_axis, np.array(train_accuracies), \"g--\", label=\"Train accuracies\")\n",
        "\n",
        "indep_test_axis = np.append(\n",
        "    np.array(range(batch_size, len(test_losses)*display_iter, display_iter)[:-1]),\n",
        "    [training_iters]\n",
        ")\n",
        "plt.plot(indep_test_axis, np.array(test_losses),     \"b-\", label=\"Test losses\")\n",
        "plt.plot(indep_test_axis, np.array(test_accuracies), \"g-\", label=\"Test accuracies\")\n",
        "\n",
        "plt.title(\"Training session's progress over iterations\")\n",
        "plt.legend(loc='upper right', shadow=True)\n",
        "plt.ylabel('Training Progress (Loss or Accuracy values)')\n",
        "plt8.xlabel('Training iteration')\n",
        "\n",
        "plt.show()"
      ],
      "execution_count": 10,
      "outputs": [
        {
          "output_type": "error",
          "ename": "ValueError",
          "evalue": "ignored",
          "traceback": [
            "\u001b[0;31m---------------------------------------------------------------------------\u001b[0m",
            "\u001b[0;31mValueError\u001b[0m                                Traceback (most recent call last)",
            "\u001b[0;32m<ipython-input-10-e98789f408a2>\u001b[0m in \u001b[0;36m<module>\u001b[0;34m()\u001b[0m\n\u001b[1;32m     20\u001b[0m     \u001b[0;34m[\u001b[0m\u001b[0mtraining_iters\u001b[0m\u001b[0;34m]\u001b[0m\u001b[0;34m\u001b[0m\u001b[0;34m\u001b[0m\u001b[0m\n\u001b[1;32m     21\u001b[0m )\n\u001b[0;32m---> 22\u001b[0;31m \u001b[0mplt\u001b[0m\u001b[0;34m.\u001b[0m\u001b[0mplot\u001b[0m\u001b[0;34m(\u001b[0m\u001b[0mindep_test_axis\u001b[0m\u001b[0;34m,\u001b[0m \u001b[0mnp\u001b[0m\u001b[0;34m.\u001b[0m\u001b[0marray\u001b[0m\u001b[0;34m(\u001b[0m\u001b[0mtest_losses\u001b[0m\u001b[0;34m)\u001b[0m\u001b[0;34m,\u001b[0m     \u001b[0;34m\"b-\"\u001b[0m\u001b[0;34m,\u001b[0m \u001b[0mlabel\u001b[0m\u001b[0;34m=\u001b[0m\u001b[0;34m\"Test losses\"\u001b[0m\u001b[0;34m)\u001b[0m\u001b[0;34m\u001b[0m\u001b[0;34m\u001b[0m\u001b[0m\n\u001b[0m\u001b[1;32m     23\u001b[0m \u001b[0mplt\u001b[0m\u001b[0;34m.\u001b[0m\u001b[0mplot\u001b[0m\u001b[0;34m(\u001b[0m\u001b[0mindep_test_axis\u001b[0m\u001b[0;34m,\u001b[0m \u001b[0mnp\u001b[0m\u001b[0;34m.\u001b[0m\u001b[0marray\u001b[0m\u001b[0;34m(\u001b[0m\u001b[0mtest_accuracies\u001b[0m\u001b[0;34m)\u001b[0m\u001b[0;34m,\u001b[0m \u001b[0;34m\"g-\"\u001b[0m\u001b[0;34m,\u001b[0m \u001b[0mlabel\u001b[0m\u001b[0;34m=\u001b[0m\u001b[0;34m\"Test accuracies\"\u001b[0m\u001b[0;34m)\u001b[0m\u001b[0;34m\u001b[0m\u001b[0;34m\u001b[0m\u001b[0m\n\u001b[1;32m     24\u001b[0m \u001b[0;34m\u001b[0m\u001b[0m\n",
            "\u001b[0;32m/usr/local/lib/python3.6/dist-packages/matplotlib/pyplot.py\u001b[0m in \u001b[0;36mplot\u001b[0;34m(scalex, scaley, data, *args, **kwargs)\u001b[0m\n\u001b[1;32m   2761\u001b[0m     return gca().plot(\n\u001b[1;32m   2762\u001b[0m         *args, scalex=scalex, scaley=scaley, **({\"data\": data} if data\n\u001b[0;32m-> 2763\u001b[0;31m         is not None else {}), **kwargs)\n\u001b[0m\u001b[1;32m   2764\u001b[0m \u001b[0;34m\u001b[0m\u001b[0m\n\u001b[1;32m   2765\u001b[0m \u001b[0;34m\u001b[0m\u001b[0m\n",
            "\u001b[0;32m/usr/local/lib/python3.6/dist-packages/matplotlib/axes/_axes.py\u001b[0m in \u001b[0;36mplot\u001b[0;34m(self, scalex, scaley, data, *args, **kwargs)\u001b[0m\n\u001b[1;32m   1644\u001b[0m         \"\"\"\n\u001b[1;32m   1645\u001b[0m         \u001b[0mkwargs\u001b[0m \u001b[0;34m=\u001b[0m \u001b[0mcbook\u001b[0m\u001b[0;34m.\u001b[0m\u001b[0mnormalize_kwargs\u001b[0m\u001b[0;34m(\u001b[0m\u001b[0mkwargs\u001b[0m\u001b[0;34m,\u001b[0m \u001b[0mmlines\u001b[0m\u001b[0;34m.\u001b[0m\u001b[0mLine2D\u001b[0m\u001b[0;34m)\u001b[0m\u001b[0;34m\u001b[0m\u001b[0;34m\u001b[0m\u001b[0m\n\u001b[0;32m-> 1646\u001b[0;31m         \u001b[0mlines\u001b[0m \u001b[0;34m=\u001b[0m \u001b[0;34m[\u001b[0m\u001b[0;34m*\u001b[0m\u001b[0mself\u001b[0m\u001b[0;34m.\u001b[0m\u001b[0m_get_lines\u001b[0m\u001b[0;34m(\u001b[0m\u001b[0;34m*\u001b[0m\u001b[0margs\u001b[0m\u001b[0;34m,\u001b[0m \u001b[0mdata\u001b[0m\u001b[0;34m=\u001b[0m\u001b[0mdata\u001b[0m\u001b[0;34m,\u001b[0m \u001b[0;34m**\u001b[0m\u001b[0mkwargs\u001b[0m\u001b[0;34m)\u001b[0m\u001b[0;34m]\u001b[0m\u001b[0;34m\u001b[0m\u001b[0;34m\u001b[0m\u001b[0m\n\u001b[0m\u001b[1;32m   1647\u001b[0m         \u001b[0;32mfor\u001b[0m \u001b[0mline\u001b[0m \u001b[0;32min\u001b[0m \u001b[0mlines\u001b[0m\u001b[0;34m:\u001b[0m\u001b[0;34m\u001b[0m\u001b[0;34m\u001b[0m\u001b[0m\n\u001b[1;32m   1648\u001b[0m             \u001b[0mself\u001b[0m\u001b[0;34m.\u001b[0m\u001b[0madd_line\u001b[0m\u001b[0;34m(\u001b[0m\u001b[0mline\u001b[0m\u001b[0;34m)\u001b[0m\u001b[0;34m\u001b[0m\u001b[0;34m\u001b[0m\u001b[0m\n",
            "\u001b[0;32m/usr/local/lib/python3.6/dist-packages/matplotlib/axes/_base.py\u001b[0m in \u001b[0;36m__call__\u001b[0;34m(self, *args, **kwargs)\u001b[0m\n\u001b[1;32m    214\u001b[0m                 \u001b[0mthis\u001b[0m \u001b[0;34m+=\u001b[0m \u001b[0margs\u001b[0m\u001b[0;34m[\u001b[0m\u001b[0;36m0\u001b[0m\u001b[0;34m]\u001b[0m\u001b[0;34m,\u001b[0m\u001b[0;34m\u001b[0m\u001b[0;34m\u001b[0m\u001b[0m\n\u001b[1;32m    215\u001b[0m                 \u001b[0margs\u001b[0m \u001b[0;34m=\u001b[0m \u001b[0margs\u001b[0m\u001b[0;34m[\u001b[0m\u001b[0;36m1\u001b[0m\u001b[0;34m:\u001b[0m\u001b[0;34m]\u001b[0m\u001b[0;34m\u001b[0m\u001b[0;34m\u001b[0m\u001b[0m\n\u001b[0;32m--> 216\u001b[0;31m             \u001b[0;32myield\u001b[0m \u001b[0;32mfrom\u001b[0m \u001b[0mself\u001b[0m\u001b[0;34m.\u001b[0m\u001b[0m_plot_args\u001b[0m\u001b[0;34m(\u001b[0m\u001b[0mthis\u001b[0m\u001b[0;34m,\u001b[0m \u001b[0mkwargs\u001b[0m\u001b[0;34m)\u001b[0m\u001b[0;34m\u001b[0m\u001b[0;34m\u001b[0m\u001b[0m\n\u001b[0m\u001b[1;32m    217\u001b[0m \u001b[0;34m\u001b[0m\u001b[0m\n\u001b[1;32m    218\u001b[0m     \u001b[0;32mdef\u001b[0m \u001b[0mget_next_color\u001b[0m\u001b[0;34m(\u001b[0m\u001b[0mself\u001b[0m\u001b[0;34m)\u001b[0m\u001b[0;34m:\u001b[0m\u001b[0;34m\u001b[0m\u001b[0;34m\u001b[0m\u001b[0m\n",
            "\u001b[0;32m/usr/local/lib/python3.6/dist-packages/matplotlib/axes/_base.py\u001b[0m in \u001b[0;36m_plot_args\u001b[0;34m(self, tup, kwargs)\u001b[0m\n\u001b[1;32m    340\u001b[0m \u001b[0;34m\u001b[0m\u001b[0m\n\u001b[1;32m    341\u001b[0m         \u001b[0;32mif\u001b[0m \u001b[0mx\u001b[0m\u001b[0;34m.\u001b[0m\u001b[0mshape\u001b[0m\u001b[0;34m[\u001b[0m\u001b[0;36m0\u001b[0m\u001b[0;34m]\u001b[0m \u001b[0;34m!=\u001b[0m \u001b[0my\u001b[0m\u001b[0;34m.\u001b[0m\u001b[0mshape\u001b[0m\u001b[0;34m[\u001b[0m\u001b[0;36m0\u001b[0m\u001b[0;34m]\u001b[0m\u001b[0;34m:\u001b[0m\u001b[0;34m\u001b[0m\u001b[0;34m\u001b[0m\u001b[0m\n\u001b[0;32m--> 342\u001b[0;31m             raise ValueError(f\"x and y must have same first dimension, but \"\n\u001b[0m\u001b[1;32m    343\u001b[0m                              f\"have shapes {x.shape} and {y.shape}\")\n\u001b[1;32m    344\u001b[0m         \u001b[0;32mif\u001b[0m \u001b[0mx\u001b[0m\u001b[0;34m.\u001b[0m\u001b[0mndim\u001b[0m \u001b[0;34m>\u001b[0m \u001b[0;36m2\u001b[0m \u001b[0;32mor\u001b[0m \u001b[0my\u001b[0m\u001b[0;34m.\u001b[0m\u001b[0mndim\u001b[0m \u001b[0;34m>\u001b[0m \u001b[0;36m2\u001b[0m\u001b[0;34m:\u001b[0m\u001b[0;34m\u001b[0m\u001b[0;34m\u001b[0m\u001b[0m\n",
            "\u001b[0;31mValueError\u001b[0m: x and y must have same first dimension, but have shapes (1,) and (5,)"
          ]
        },
        {
          "output_type": "stream",
          "text": [
            "findfont: Font family ['Bitstream Vera Sans'] not found. Falling back to DejaVu Sans.\n"
          ],
          "name": "stderr"
        },
        {
          "output_type": "display_data",
          "data": {
            "image/png": "[encoded data removed]",
            "text/plain": [
              "<Figure size 864x864 with 1 Axes>"
            ]
          },
          "metadata": {
            "tags": []
          }
        }
      ]
    },
    {
      "cell_type": "code",
      "metadata": {
        "id": "cjnsw2a9d6RG",
        "colab_type": "code",
        "outputId": "773fc08a-ff04-482c-b90c-379da07f4738",
        "colab": {
          "base_uri": "https://localhost:8080/",
          "height": 35
        }
      },
      "source": [
        "print(n_classes)"
      ],
      "execution_count": 13,
      "outputs": [
        {
          "output_type": "stream",
          "text": [
            "3\n"
          ],
          "name": "stdout"
        }
      ]
    },
    {
      "cell_type": "markdown",
      "metadata": {
        "id": "uzKm9poVN9DL",
        "colab_type": "text"
      },
      "source": [
        "## And finally, the multi-class confusion matrix and metrics!"
      ]
    },
    {
      "cell_type": "code",
      "metadata": {
        "id": "2pVsbXWIN9DN",
        "colab_type": "code",
        "outputId": "e940a8b7-9c18-4817-e3b6-e5c27b469bbe",
        "colab": {
          "base_uri": "https://localhost:8080/",
          "height": 1000
        }
      },
      "source": [
        "# Results\n",
        "\n",
        "predictions = one_hot_predictions.argmax(1)\n",
        "\n",
        "print(\"Testing Accuracy: {}%\".format(100*accuracy))\n",
        "\n",
        "print(\"\")\n",
        "print(\"Precision: {}%\".format(100*metrics.precision_score(y_test, predictions, average=\"weighted\")))\n",
        "print(\"Recall: {}%\".format(100*metrics.recall_score(y_test, predictions, average=\"weighted\")))\n",
        "print(\"f1_score: {}%\".format(100*metrics.f1_score(y_test, predictions, average=\"weighted\")))\n",
        "\n",
        "print(\"\")\n",
        "print(\"Confusion Matrix:\")\n",
        "confusion_matrix = metrics.confusion_matrix(y_test, predictions)\n",
        "print(confusion_matrix)\n",
        "normalised_confusion_matrix = np.array(confusion_matrix, dtype=np.float32)/np.sum(confusion_matrix)*100\n",
        "\n",
        "print(\"\")\n",
        "print(\"Confusion matrix (normalised to % of total test data):\")\n",
        "print(normalised_confusion_matrix)\n",
        "print(\"Note: if training and testing data is not equally distributed am [ 0 17  6]ongst classes, \")\n",
        "print(\"so it is normal that more than a 6th of the data is correctly classifier in the last category.\")\n",
        "\n",
        "# Plot Results: \n",
        "width = 12\n",
        "height = 12\n",
        "plt.figure(figsize=(width, height))\n",
        "plt.imshow(\n",
        "    normalised_confusion_matrix, \n",
        "    interpolation='nearest', \n",
        "    cmap=plt.cm.rainbow\n",
        ")\n",
        "plt.title(\"Confusion matrix \\n(normalised to % of total test data)\")\n",
        "plt.colorbar()\n",
        "tick_marks = np.arange(n_classes)\n",
        "plt.xticks(tick_marks, LABELS, rotation=90)\n",
        "plt.yticks(tick_marks, LABELS)\n",
        "plt.tight_layout()\n",
        "plt.ylabel('True label')\n",
        "plt.xlabel('Predicted label')\n",
        "plt.show()"
      ],
      "execution_count": 11,
      "outputs": [
        {
          "output_type": "stream",
          "text": [
            "findfont: Font family ['Bitstream Vera Sans'] not found. Falling back to DejaVu Sans.\n",
            "findfont: Font family ['Bitstream Vera Sans'] not found. Falling back to DejaVu Sans.\n"
          ],
          "name": "stderr"
        },
        {
          "output_type": "stream",
          "text": [
            "Testing Accuracy: 80.0000011920929%\n",
            "\n",
            "Precision: 81.98529411764706%\n",
            "Recall: 80.0%\n",
            "f1_score: 79.33030177759403%\n",
            "\n",
            "Confusion Matrix:\n",
            "[[25  0  0]\n",
            " [ 0 13 12]\n",
            " [ 0  3 22]]\n",
            "\n",
            "Confusion matrix (normalised to % of total test data):\n",
            "[[33.333336  0.        0.      ]\n",
            " [ 0.       17.333334 16.      ]\n",
            " [ 0.        4.       29.333332]]\n",
            "Note: if training and testing data is not equally distributed am [ 0 17  6]ongst classes, \n",
            "so it is normal that more than a 6th of the data is correctly classifier in the last category.\n"
          ],
          "name": "stdout"
        },
        {
          "output_type": "display_data",
          "data": {
            "image/png": "[encoded data removed]",
            "text/plain": [
              "<Figure size 864x864 with 2 Axes>"
            ]
          },
          "metadata": {
            "tags": []
          }
        }
      ]
    },
    {
      "cell_type": "code",
      "metadata": {
        "id": "4WLJjOsLeB5a",
        "colab_type": "code",
        "outputId": "0bf65910-682b-4a69-ef3b-d217bf4e42f5",
        "colab": {
          "base_uri": "https://localhost:8080/",
          "height": 72
        }
      },
      "source": [
        "print(predictions)"
      ],
      "execution_count": 13,
      "outputs": [
        {
          "output_type": "stream",
          "text": [
            "[0 0 0 0 0 0 0 0 0 0 0 0 0 0 0 0 0 0 0 0 0 0 0 0 0 1 1 1 1 1 1 1 1 1 1 1 1\n",
            " 1 1 1 1 1 1 1 1 1 1 1 1 1 1 1 2 1 1 1 1 1 1 1 1 1 1 1 1 1 1 1 1 1 1 1 1 1\n",
            " 1]\n"
          ],
          "name": "stdout"
        }
      ]
    },
    {
      "cell_type": "code",
      "metadata": {
        "id": "bPTOSWw0N9DV",
        "colab_type": "code",
        "colab": {}
      },
      "source": [
        "sess.close()"
      ],
      "execution_count": 0,
      "outputs": []
    },
    {
      "cell_type": "markdown",
      "metadata": {
        "id": "PaSdKHFkN9Db",
        "colab_type": "text"
      },
      "source": [
        "## Conclusion\n",
        "\n",
        "Outstandingly, **the final accuracy is of 91%**! And it can peak to values such as 93.25%, at some moments of luck during the training, depending on how the neural network's weights got initialized at the start of the training, randomly. \n",
        "\n",
        "This means that the neural networks is almost always able to correctly identify the movement type! Remember, the phone is attached on the waist and each series to classify has just a 128 sample window of two internal sensors (a.k.a. 2.56 seconds at 50 FPS), so it amazes me how those predictions are extremely accurate given this small window of context and raw data. I've validated and re-validated that there is no important bug, and the community used and tried this code a lot. (Note: be sure to report something in the issue tab if you find bugs, otherwise [Quora](https://www.quora.com/), [StackOverflow](https://stackoverflow.com/questions/tagged/tensorflow?sort=votes&pageSize=50), and other [StackExchange](https://stackexchange.com/sites#science) sites are the places for asking questions.)\n",
        "\n",
        "I specially did not expect such good results for guessing between the labels \"SITTING\" and \"STANDING\". Those are seemingly almost the same thing from the point of view of a device placed at waist level according to how the dataset was originally gathered. Thought, it is still possible to see a little cluster on the matrix between those classes, which drifts away just a bit from the identity. This is great.\n",
        "\n",
        "It is also possible to see that there was a slight difficulty in doing the difference between \"WALKING\", \"WALKING_UPSTAIRS\" and \"WALKING_DOWNSTAIRS\". Obviously, those activities are quite similar in terms of movements. \n",
        "\n",
        "I also tried my code without the gyroscope, using only the 3D accelerometer's 6 features (and not changing the training hyperparameters), and got an accuracy of 87%. In general, gyroscopes consumes more power than accelerometers, so it is preferable to turn them off. \n",
        "\n",
        "\n",
        "## Improvements\n",
        "\n",
        "In [another open-source repository of mine](https://github.com/guillaume-chevalier/HAR-stacked-residual-bidir-LSTMs), the accuracy is pushed up to nearly 94% using a special deep LSTM architecture which combines the concepts of bidirectional RNNs, residual connections, and stacked cells. This architecture is also tested on another similar activity dataset. It resembles the nice architecture used in \"[Google’s Neural Machine Translation System: Bridging the Gap between Human and Machine Translation](https://arxiv.org/pdf/1609.08144.pdf)\", without an attention mechanism, and with just the encoder part - as a \"many to one\" architecture instead of a \"many to many\" to be adapted to the Human Activity Recognition (HAR) problem. I also worked more on the problem and came up with the [LARNN](https://github.com/guillaume-chevalier/Linear-Attention-Recurrent-Neural-Network), however it's complicated for just a little gain. Thus the current, original activity recognition project is simply better to use for its outstanding simplicity. \n",
        "\n",
        "If you want to learn more about deep learning, I have also built a list of the learning ressources for deep learning which have revealed to be the most useful to me [here](https://github.com/guillaume-chevalier/Awesome-Deep-Learning-Resources). \n",
        "\n",
        "\n",
        "## References\n",
        "\n",
        "The [dataset](https://archive.ics.uci.edu/ml/datasets/Human+Activity+Recognition+Using+Smartphones) can be found on the UCI Machine Learning Repository: \n",
        "\n",
        "> Davide Anguita, Alessandro Ghio, Luca Oneto, Xavier Parra and Jorge L. Reyes-Ortiz. A Public Domain Dataset for Human Activity Recognition Using Smartphones. 21th European Symposium on Artificial Neural Networks, Computational Intelligence and Machine Learning, ESANN 2013. Bruges, Belgium 24-26 April 2013.\n",
        "\n",
        "The RNN image for \"many-to-one\" is taken from Karpathy's post: \n",
        "\n",
        "> Andrej Karpathy, The Unreasonable Effectiveness of Recurrent Neural Networks, 2015, \n",
        "> http://karpathy.github.io/2015/05/21/rnn-effectiveness/\n",
        "\n",
        "## Citation\n",
        "\n",
        "Copyright (c) 2016 Guillaume Chevalier. To cite my code, you can point to the URL of the GitHub repository, for example: \n",
        "\n",
        "> Guillaume Chevalier, LSTMs for Human Activity Recognition, 2016, \n",
        "> https://github.com/guillaume-chevalier/LSTM-Human-Activity-Recognition\n",
        "\n",
        "My code is available for free and even for private usage for anyone under the [MIT License](https://github.com/guillaume-chevalier/LSTM-Human-Activity-Recognition/blob/master/LICENSE), however I ask to cite for using the code. \n",
        "\n",
        "Here is the BibTeX citation code: \n",
        "```\n",
        "@misc{chevalier2016lstms,\n",
        "  title={LSTMs for human activity recognition},\n",
        "  author={Chevalier, Guillaume},\n",
        "  year={2016}\n",
        "}\n",
        "```\n",
        "\n",
        "## Extra links\n",
        "\n",
        "### Connect with me\n",
        "\n",
        "- [LinkedIn](https://ca.linkedin.com/in/chevalierg)\n",
        "- [Twitter](https://twitter.com/guillaume_che)\n",
        "- [GitHub](https://github.com/guillaume-chevalier/)\n",
        "- [Quora](https://www.quora.com/profile/Guillaume-Chevalier-2)\n",
        "- [YouTube](https://www.youtube.com/c/GuillaumeChevalier)\n",
        "- [Dev/Consulting](http://www.neuraxio.com/en/)\n",
        "\n",
        "### Liked this project? Did it help you? Leave a [star](https://github.com/guillaume-chevalier/LSTM-Human-Activity-Recognition/stargazers), [fork](https://github.com/guillaume-chevalier/LSTM-Human-Activity-Recognition/network/members) and share the love!\n",
        "\n",
        "This activity recognition project has been seen in:\n",
        "\n",
        "- [Hacker News 1st page](https://news.ycombinator.com/item?id=13049143)\n",
        "- [Awesome TensorFlow](https://github.com/jtoy/awesome-tensorflow#tutorials)\n",
        "- [TensorFlow World](https://github.com/astorfi/TensorFlow-World#some-useful-tutorials)\n",
        "- And more.\n",
        "\n",
        "---\n"
      ]
    },
    {
      "cell_type": "code",
      "metadata": {
        "scrolled": true,
        "id": "fsC6wxKaN9De",
        "colab_type": "code",
        "colab": {}
      },
      "source": [
        "# Let's convert this notebook to a README automatically for the GitHub project's title page:\n",
        "!jupyter nbconvert --to markdown LSTM.ipynb\n",
        "!mv LSTM.md README.md"
      ],
      "execution_count": 0,
      "outputs": []
    }
  ]
}